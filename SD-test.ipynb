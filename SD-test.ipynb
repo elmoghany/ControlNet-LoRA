{
 "cells": [
  {
   "cell_type": "code",
   "execution_count": null,
   "metadata": {},
   "outputs": [
    {
     "data": {
      "application/vnd.jupyter.widget-view+json": {
       "model_id": "a2a76a2d7e8e451f8de50c4d444456db",
       "version_major": 2,
       "version_minor": 0
      },
      "text/plain": [
       "Loading pipeline components...:   0%|          | 0/7 [00:00<?, ?it/s]"
      ]
     },
     "metadata": {},
     "output_type": "display_data"
    },
    {
     "data": {
      "application/vnd.jupyter.widget-view+json": {
       "model_id": "e8d94f7ce493422aba8da8cafdd16243",
       "version_major": 2,
       "version_minor": 0
      },
      "text/plain": [
       "  0%|          | 0/50 [00:00<?, ?it/s]"
      ]
     },
     "metadata": {},
     "output_type": "display_data"
    }
   ],
   "source": [
    "import torch\n",
    "from diffusers import StableDiffusionPipeline\n",
    "import os\n",
    "import json\n",
    "from PIL import Image\n",
    "import matplotlib.pyplot as plt\n",
    "\n",
    "file_path = os.path.join(\"controlNetData\",\"test_prompts.json\")\n",
    "with open(file_path,'r') as f:\n",
    "    dict = json.load(f)\n",
    "\n",
    "model_id = \"CompVis/stable-diffusion-v1-4\"\n",
    "device = \"cuda\"\n",
    "\n",
    "pipe = StableDiffusionPipeline.from_pretrained(model_id, torch_dtype=torch.float16)\n",
    "pipe = pipe.to(device)\n",
    "\n",
    "for key, prompt in dict.items():\n",
    "    image   = pipe(prompt).images[0]\n",
    "    save_dir= os.path.join(\"controlNetData\",\"SDImages\")\n",
    "    if not os.path.exists(save_dir):\n",
    "        os.makedirs(save_dir)\n",
    "    modified_prompt = prompt.replace(\" \", \"_\").replace(\"/\",\"\")\n",
    "    save_name   = os.path.join(save_dir,f'{key}-{modified_prompt}.png')\n",
    "    print(key)\n",
    "    print(\"save_name=\",save_name)\n",
    "    image.save(save_name)\n",
    "    plt.imshow(image)\n",
    "    plt.axis('off')  # Turn off axis\n",
    "    plt.show()  # Show the image inline\n",
    "    \n",
    "# prompt = \"a photo of an astronaut riding a horse on mars\"\n",
    "\n",
    "# image = pipe(prompt).images[0]  \n",
    "    \n",
    "# image.save(\"astronaut_rides_horse.png\")"
   ]
  },
  {
   "cell_type": "code",
   "execution_count": null,
   "metadata": {},
   "outputs": [],
   "source": []
  }
 ],
 "metadata": {
  "kernelspec": {
   "display_name": "Python 3",
   "language": "python",
   "name": "python3"
  },
  "language_info": {
   "codemirror_mode": {
    "name": "ipython",
    "version": 3
   },
   "file_extension": ".py",
   "mimetype": "text/x-python",
   "name": "python",
   "nbconvert_exporter": "python",
   "pygments_lexer": "ipython3",
   "version": "3.10.12"
  }
 },
 "nbformat": 4,
 "nbformat_minor": 2
}
